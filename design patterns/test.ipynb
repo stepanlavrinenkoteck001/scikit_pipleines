{
 "cells": [
  {
   "cell_type": "code",
   "execution_count": null,
   "metadata": {},
   "outputs": [],
   "source": [
    "class carTransmission:  #class with methods and attributes\n",
    "    def __init__(self, current_gear, transmission_oil_age):\n",
    "        self.current_gear = current_gear  # attributes\n",
    "        self.transmission_oil_age = transmission_oil_age  #attributes\n",
    "\n",
    "    def check_brake_on(self):\n",
    "        # engage that brake is pressed here\n",
    "        return self\n",
    "    \n",
    "    def engage_clutch(self):\n",
    "        # engage clutch here\n",
    "        return self\n",
    "    \n",
    "    def release_clutch(self):\n",
    "        # release clutch here\n",
    "        return self    \n",
    "\n",
    "    def shift_forward(self, next_gear):  #method\n",
    "        self = check_brake_on().engage_clutch()\n",
    "        self.current_gear = next_gear\n",
    "        return self\n",
    "    \n",
    "    def check_maintenance_needed(self):  #method\n",
    "        if self.transmission_oil_age > 6000:\n",
    "            print('Oil is 6000km old. Need to change it')\n",
    "        return self\n",
    "\n",
    "\n",
    "# usage\n",
    "# initialize class\n",
    "mytransmission = carTransmission(2)\n",
    "mytransmission.shift_forward(3).check_maintenance_needed()"
   ]
  },
  {
   "cell_type": "code",
   "execution_count": null,
   "metadata": {},
   "outputs": [],
   "source": []
  },
  {
   "cell_type": "code",
   "execution_count": null,
   "metadata": {},
   "outputs": [],
   "source": []
  }
 ],
 "metadata": {
  "language_info": {
   "name": "python"
  },
  "orig_nbformat": 4
 },
 "nbformat": 4,
 "nbformat_minor": 2
}
